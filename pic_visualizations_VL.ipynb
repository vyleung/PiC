{
  "nbformat": 4,
  "nbformat_minor": 0,
  "metadata": {
    "colab": {
      "name": "pic_visualizations.ipynb",
      "provenance": [],
      "collapsed_sections": [
        "n9cokMNQRXkE",
        "QpX915i1Rfhl",
        "jJx4IV9TTj8o"
      ]
    },
    "kernelspec": {
      "name": "python3",
      "display_name": "Python 3"
    },
    "language_info": {
      "name": "python"
    }
  },
  "cells": [
    {
      "cell_type": "markdown",
      "metadata": {
        "id": "n9cokMNQRXkE"
      },
      "source": [
        "# import the Python libraries"
      ]
    },
    {
      "cell_type": "code",
      "metadata": {
        "id": "UJnpjS-yQzaq"
      },
      "source": [
        "# imported the libraries\n",
        "import pandas as pd\n",
        "import numpy as np\n",
        "import matplotlib.pyplot as plt\n",
        "import seaborn as sns"
      ],
      "execution_count": 1,
      "outputs": []
    },
    {
      "cell_type": "markdown",
      "metadata": {
        "id": "QpX915i1Rfhl"
      },
      "source": [
        "# import data file \n",
        "* combines both pre-test abstraction scores into one pre-test score and both post-test abstraction scores into one post-test score"
      ]
    },
    {
      "cell_type": "code",
      "metadata": {
        "id": "pU8XlHkWRc28"
      },
      "source": [
        "# replace 'pic_thesis_data_VL.csv' w/ file name\n",
        "raw_pic_df = pd.read_csv('pic_thesis_data_VL.csv',index_col=0)\n",
        "\n",
        "# pre-test score = abb_abs1 + aab_abs1; post-test score = abb_abs2 + aab_abs2\n",
        "raw_pic_df = raw_pic_df.assign(pretest_perf=(raw_pic_df['abb_abs1'] + raw_pic_df['aab_abs1']), posttest_perf=(raw_pic_df['abb_abs2'] + raw_pic_df['aab_abs2']))"
      ],
      "execution_count": 2,
      "outputs": []
    },
    {
      "cell_type": "markdown",
      "metadata": {
        "id": "jJx4IV9TTj8o"
      },
      "source": [
        "# dataframes by condition and age"
      ]
    },
    {
      "cell_type": "markdown",
      "metadata": {
        "id": "pVkyV-h8T2Rz"
      },
      "source": [
        "## dataframes by condition"
      ]
    },
    {
      "cell_type": "code",
      "metadata": {
        "id": "qy2cA3LUT3f_"
      },
      "source": [
        "# gets all kids in the exploration condition\n",
        "exp_df = raw_pic_df.loc[(raw_pic_df['condition']== 'Exploration')]\n",
        "\n",
        "# gets all kids in the demonstration condition\n",
        "dem_df = raw_pic_df.loc[(raw_pic_df['condition']== 'Demonstration')]"
      ],
      "execution_count": 3,
      "outputs": []
    },
    {
      "cell_type": "markdown",
      "metadata": {
        "id": "zuYAd9Z3T-me"
      },
      "source": [
        "## dataframes by age"
      ]
    },
    {
      "cell_type": "code",
      "metadata": {
        "id": "4OBkN03bT_cO"
      },
      "source": [
        "# gets all 5 y/o in both conditions\n",
        "five_df = raw_pic_df.loc[(raw_pic_df['age_group']== 5)]\n",
        "\n",
        "# gets all 6 y/o in both conditions\n",
        "six_df = raw_pic_df.loc[(raw_pic_df['age_group']== 6)]"
      ],
      "execution_count": 4,
      "outputs": []
    },
    {
      "cell_type": "markdown",
      "metadata": {
        "id": "ea1dPFC4Torr"
      },
      "source": [
        "## dataframes by condition and age"
      ]
    },
    {
      "cell_type": "code",
      "metadata": {
        "id": "YOwr1ympTnMk"
      },
      "source": [
        "# 5 y/o exploration\n",
        "exp_5 = raw_pic_df.loc[(raw_pic_df['age_group'] == 5) & (raw_pic_df['condition']== 'Exploration')]\n",
        "\n",
        "# 5 y/o demonstration\n",
        "dem_5 = raw_pic_df.loc[(raw_pic_df['age_group'] == 5) & (raw_pic_df['condition']== 'Demonstration')]\n",
        "\n",
        "# 6 y/o exploration\n",
        "exp_6 = raw_pic_df.loc[(raw_pic_df['age_group'] == 6) & (raw_pic_df['condition']== 'Exploration')]\n",
        "\n",
        "# 6 y/o demonstration\n",
        "dem_6 = raw_pic_df.loc[(raw_pic_df['age_group'] == 6) & (raw_pic_df['condition']== 'Demonstration')]"
      ],
      "execution_count": 5,
      "outputs": []
    },
    {
      "cell_type": "markdown",
      "metadata": {
        "id": "YcS6oyvITff2"
      },
      "source": [
        "# pre- and post-test performance (numbers)"
      ]
    },
    {
      "cell_type": "markdown",
      "metadata": {
        "id": "ym03vmsOUpME"
      },
      "source": [
        "## pre/post performance by condition"
      ]
    },
    {
      "cell_type": "code",
      "metadata": {
        "colab": {
          "base_uri": "https://localhost:8080/"
        },
        "id": "BLgmLMwYTeiC",
        "outputId": "9205f33d-4b98-4587-ec0d-bfde9f280e8c"
      },
      "source": [
        "# scores/std dev for all kids in the exploration condition\n",
        "exp_df_pretest = np.mean(exp_df['pretest_perf']) # gets their avg pre-test score\n",
        "exp_df_posttest = np.mean(exp_df['posttest_perf']) # gets their avg post-test score\n",
        "exp_df_pretest_std = np.std(exp_df['pretest_perf']) # gets their pre-test standard deviation\n",
        "exp_df_posttest_std = np.std(exp_df['posttest_perf']) # gets their post-test standard deviation\n",
        "print('pre-test avg perf and std dev for exploration condition')\n",
        "print(exp_df_pretest, '|', exp_df_pretest_std)\n",
        "print()\n",
        "print('post-test avg perf and std dev for exploration condition')\n",
        "print(exp_df_posttest, '|', exp_df_posttest_std)\n",
        "\n",
        "print()\n",
        "print('----------------------------------------')\n",
        "print()\n",
        "\n",
        "# scores/std dev for for all kids in the demonstration condition\n",
        "dem_df_pretest = np.mean(dem_df['pretest_perf']) # gets their avg pre-test score\n",
        "dem_df_posttest = np.mean(dem_df['posttest_perf']) # gets their avg post-test score\n",
        "dem_df_pretest_std = np.std(dem_df['pretest_perf']) # gets their pre-test standard deviation\n",
        "dem_df_posttest_std = np.std(dem_df['posttest_perf']) # gets their post-test standard deviation\n",
        "print('pre-test avg perf and std dev for demonstration condition')\n",
        "print(dem_df_pretest, '|', dem_df_pretest_std)\n",
        "print()\n",
        "print('post-test avg perf and std dev for demonstration condition')\n",
        "print(dem_df_posttest, '|', dem_df_posttest_std)"
      ],
      "execution_count": 101,
      "outputs": [
        {
          "output_type": "stream",
          "text": [
            "pre-test avg perf and std dev for exploration condition\n",
            "1.7941176470588236 | 0.5302281287447043\n",
            "\n",
            "post-test avg perf and std dev for exploration condition\n",
            "1.8235294117647058 | 0.5128116404165498\n",
            "\n",
            "----------------------------------------\n",
            "\n",
            "pre-test avg perf and std dev for demonstration condition\n",
            "1.911764705882353 | 0.2836367870880281\n",
            "\n",
            "post-test avg perf and std dev for demonstration condition\n",
            "1.9411764705882353 | 0.2352941176470589\n"
          ],
          "name": "stdout"
        }
      ]
    },
    {
      "cell_type": "markdown",
      "metadata": {
        "id": "qJJkhFiwUvmv"
      },
      "source": [
        "## pre/post performance by age"
      ]
    },
    {
      "cell_type": "code",
      "metadata": {
        "colab": {
          "base_uri": "https://localhost:8080/"
        },
        "id": "TR4aoWstUvBB",
        "outputId": "7711ff34-525b-4076-8fbe-0096dbc15a23"
      },
      "source": [
        "# scores/std dev for all 5 y/o\n",
        "five_df_pretest = np.mean(five_df['pretest_perf']) # gets their avg pre-test score\n",
        "five_df_posttest = np.mean(five_df['posttest_perf']) # gets their avg post-test score\n",
        "five_df_pretest_std = np.std(five_df['pretest_perf']) # gets their pre-test standard deviation\n",
        "five_df_posttest_std = np.std(five_df['posttest_perf']) # gets their post-test standard deviation\n",
        "print('pre-test avg perf and std dev for 5 y/o')\n",
        "print(five_df_pretest, '|', five_df_pretest_std)\n",
        "print()\n",
        "print('post-test avg perf and std dev for 5 y/o')\n",
        "print(five_df_posttest, '|', five_df_posttest_std)\n",
        "\n",
        "print()\n",
        "print('----------------------------------------')\n",
        "print()\n",
        "\n",
        "# scores/std dev for all 6 y/o\n",
        "six_df_pretest = np.mean(six_df['pretest_perf']) # gets their avg pre-test score\n",
        "six_df_posttest = np.mean(six_df['posttest_perf']) # gets their avg post-test score\n",
        "six_df_pretest_std = np.std(six_df['pretest_perf']) # gets their pre-test standard deviation\n",
        "six_df_posttest_std = np.std(six_df['posttest_perf']) # gets their post-test standard deviation\n",
        "print('pre-test avg perf and std dev for 6 y/o')\n",
        "print(six_df_pretest, '|', six_df_pretest_std)\n",
        "print()\n",
        "print('post-test avg perf and std dev for 6 y/o')\n",
        "print(six_df_posttest, '|', six_df_posttest_std)"
      ],
      "execution_count": 102,
      "outputs": [
        {
          "output_type": "stream",
          "text": [
            "pre-test avg perf and std dev for 5 y/o\n",
            "1.9411764705882353 | 0.23529411764705888\n",
            "\n",
            "post-test avg perf and std dev for 5 y/o\n",
            "1.8235294117647058 | 0.5128116404165498\n",
            "\n",
            "----------------------------------------\n",
            "\n",
            "pre-test avg perf and std dev for 6 y/o\n",
            "1.7647058823529411 | 0.5455069703232767\n",
            "\n",
            "post-test avg perf and std dev for 6 y/o\n",
            "1.9411764705882353 | 0.23529411764705885\n"
          ],
          "name": "stdout"
        }
      ]
    },
    {
      "cell_type": "markdown",
      "metadata": {
        "id": "6GaxvYkpUxMr"
      },
      "source": [
        "## pre/post performance by condition and age"
      ]
    },
    {
      "cell_type": "code",
      "metadata": {
        "colab": {
          "base_uri": "https://localhost:8080/"
        },
        "id": "zcokBAKhUx93",
        "outputId": "6129ede7-25f0-4c4c-de91-3a67c9ab8330"
      },
      "source": [
        "# scores/std dev for 5 y/o exploration\n",
        "exp_5_pretest = np.mean(exp_5['pretest_perf']) # gets their avg pre-test score\n",
        "exp_5_posttest = np.mean(exp_5['posttest_perf']) # gets their avg post-test score\n",
        "exp_5_pretest_std = np.std(exp_5['pretest_perf']) # gets their pre-test standard deviation\n",
        "exp_5_posttest_std = np.std(exp_5['posttest_perf']) # gets their post-test standard deviation\n",
        "\n",
        "print('pre-test avg perf and std dev for 5 y/o exploration')\n",
        "print(exp_5_pretest, '|', exp_5_pretest_std)\n",
        "print()\n",
        "print('post-test avg perf and std dev for 5 y/o exploration')\n",
        "print(exp_5_posttest, '|', exp_5_posttest_std)\n",
        "\n",
        "print()\n",
        "print('----------------------------------------')\n",
        "print()\n",
        "\n",
        "# scores/std dev for 5 y/o demonstration\n",
        "dem_5_pretest = np.mean(dem_5['pretest_perf']) # gets their avg pre-test score\n",
        "dem_5_posttest = np.mean(dem_5['posttest_perf']) # gets their avg post-test score\n",
        "dem_5_pretest_std = np.std(dem_5['pretest_perf']) # gets their pre-test standard deviation\n",
        "dem_5_posttest_std = np.std(dem_5['posttest_perf']) # gets their post-test standard deviation\n",
        "print('pre-test avg perf and std dev for 5 y/o demonstration')\n",
        "print(dem_5_pretest, '|', dem_5_pretest_std)\n",
        "print()\n",
        "print('post-test avg perf and std dev for 5 y/o demonstration')\n",
        "print(dem_5_posttest, '|', dem_5_posttest_std)\n",
        "\n",
        "print()\n",
        "print('----------------------------------------')\n",
        "print()\n",
        "\n",
        "# scores/std dev for 6 y/o exploration\n",
        "exp_6_pretest = np.mean(exp_6['pretest_perf']) # gets their avg pre-test score\n",
        "exp_6_posttest = np.mean(exp_6['posttest_perf']) # gets their avg post-test score\n",
        "exp_6_pretest_std = np.std(exp_6['pretest_perf']) # gets their pre-test standard deviation\n",
        "exp_6_posttest_std = np.std(exp_6['posttest_perf']) # gets their post-test standard deviation\n",
        "print('pre-test avg perf and std dev for 6 y/o exploration')\n",
        "print(exp_6_pretest, '|', exp_6_pretest_std)\n",
        "print()\n",
        "print('post-test avg perf and std dev for 6 y/o exploration')\n",
        "print(exp_6_posttest, '|', exp_6_posttest_std)\n",
        "\n",
        "print()\n",
        "print('----------------------------------------')\n",
        "print()\n",
        "\n",
        "# scores/std dev for 6 y/o demonstration\n",
        "dem_6_pretest = np.mean(dem_6['pretest_perf']) # gets their avg pre-test score\n",
        "dem_6_posttest = np.mean(dem_6['posttest_perf']) # gets their avg post-test score\n",
        "dem_6_pretest_std = np.std(dem_6['pretest_perf']) # gets their pre-test standard deviation\n",
        "dem_6_posttest_std = np.std(dem_6['posttest_perf']) # gets their post-test standard deviation\n",
        "print('pre-test avg perf and std dev for 6 y/o demonstration')\n",
        "print(dem_6_pretest, '|', dem_6_pretest_std)\n",
        "print()\n",
        "print('post-test avg perf and std dev for 6 y/o demonstration')\n",
        "print(dem_6_posttest, '|', dem_6_posttest_std)"
      ],
      "execution_count": 99,
      "outputs": [
        {
          "output_type": "stream",
          "text": [
            "pre-test avg perf and std dev for 5 y/o exploration\n",
            "1.9411764705882353 | 0.23529411764705888\n",
            "\n",
            "post-test avg perf and std dev for 5 y/o exploration\n",
            "1.7058823529411764 | 0.6655122646461624\n",
            "\n",
            "----------------------------------------\n",
            "\n",
            "pre-test avg perf and std dev for 5 y/o demonstration\n",
            "1.9411764705882353 | 0.23529411764705885\n",
            "\n",
            "post-test avg perf and std dev for 5 y/o demonstration\n",
            "1.9411764705882353 | 0.2352941176470589\n",
            "\n",
            "----------------------------------------\n",
            "\n",
            "pre-test avg perf and std dev for 6 y/o exploration\n",
            "1.6470588235294117 | 0.6809315825170721\n",
            "\n",
            "post-test avg perf and std dev for 6 y/o exploration\n",
            "1.9411764705882353 | 0.23529411764705885\n",
            "\n",
            "----------------------------------------\n",
            "\n",
            "pre-test avg perf and std dev for 6 y/o demonstration\n",
            "1.8823529411764706 | 0.32218973970892123\n",
            "\n",
            "post-test avg perf and std dev for 6 y/o demonstration\n",
            "1.9411764705882353 | 0.23529411764705885\n"
          ],
          "name": "stdout"
        }
      ]
    },
    {
      "cell_type": "markdown",
      "metadata": {
        "id": "uThHULYrWM-n"
      },
      "source": [
        "# pre- and post-test performance (graphs)"
      ]
    },
    {
      "cell_type": "markdown",
      "metadata": {
        "id": "BIviSSHzWVoN"
      },
      "source": [
        "## pre/post performance graphs by condition"
      ]
    },
    {
      "cell_type": "code",
      "metadata": {
        "colab": {
          "base_uri": "https://localhost:8080/",
          "height": 571
        },
        "id": "xBFs4Qx-WPmi",
        "outputId": "8f02665e-4e5b-4263-f7dd-b93226cf22bb"
      },
      "source": [
        "abs_fig_condition, axes = plt.subplots(nrows=1, ncols=2, figsize=[14,8])\n",
        "x = np.arange(1)  # the label locations\n",
        "width = 0.25  # the width of the bars\n",
        "\n",
        "# exploration pre/post graph\n",
        "exp_pretest_graph = axes[0].bar(x-width/2, exp_df_pretest, width, yerr=exp_df_pretest_std/2, label='Pre-test', error_kw=dict(lw=2, capsize=5, capthick=1), color='#cccdc6')\n",
        "exp_posttest_graph = axes[0].bar(x+width/2, exp_df_posttest, width, yerr=exp_df_posttest_std/2, label='Post-test', error_kw=dict(lw=2, capsize=5, capthick=1), color='#565754')\n",
        "axes[0].set_xlabel('Exploration', fontsize='18')\n",
        "\n",
        "# demonstration pre/post graph\n",
        "dem_pretest_graph = axes[1].bar(x-width/2, dem_df_pretest, width, yerr=dem_df_pretest_std/2, label='Pre-test', error_kw=dict(lw=2, capsize=5, capthick=1), color='#cccdc6')\n",
        "dem_posttest_graph = axes[1].bar(x+width/2, dem_df_posttest, width, yerr=dem_df_posttest_std/2, label='Post-test', error_kw=dict(lw=2, capsize=5, capthick=1), color='#565754')\n",
        "axes[1].set_xlabel('Demonstration', fontsize='18')\n",
        "\n",
        "# for each graph:\n",
        "for i in axes:\n",
        "  i.set_yticks(np.arange(0,2.1,0.25)) # set the y ticks in 0.25 increments from 0 to 2.1\n",
        "  i.set_ylabel('Proportion Correct', fontsize='18') # name the y axis 'Proportion Correct'\n",
        "  i.tick_params(axis='y', which='major', labelsize=16) # y axis tick labels\n",
        "  i.set_xticks([]) # remove x axis tick labels\n",
        "\n",
        "# sets one legend for both subplots\n",
        "lines, labels = abs_fig_condition.axes[-1].get_legend_handles_labels()\n",
        "abs_fig_condition.legend(lines,labels,loc='upper center',fontsize='16',title_fontsize='16')\n",
        "\n",
        "# puts space between the 2 subplots\n",
        "plt.subplots_adjust(wspace=0.25)\n",
        "\n",
        "# x axis = 'Condition'\n",
        "axes[0] = axes[0].text(0.3,-0.175, 'Condition', size=20, ha='center', va='center')"
      ],
      "execution_count": 74,
      "outputs": [
        {
          "output_type": "display_data",
          "data": {
            "image/png": "[encoded data removed]",
            "text/plain": [
              "<Figure size 1008x576 with 2 Axes>"
            ]
          },
          "metadata": {
            "tags": [],
            "needs_background": "light"
          }
        }
      ]
    },
    {
      "cell_type": "markdown",
      "metadata": {
        "id": "EusVNpsAWaG4"
      },
      "source": [
        "## pre/post performance graphs by age"
      ]
    },
    {
      "cell_type": "code",
      "metadata": {
        "colab": {
          "base_uri": "https://localhost:8080/",
          "height": 571
        },
        "id": "kl2FhPqqWcXe",
        "outputId": "511934dd-bb65-4d34-b30f-d9e4fe49777d"
      },
      "source": [
        "abs_fig_age, axes = plt.subplots(nrows=1, ncols=2, figsize=[14,8])\n",
        "\n",
        "# 5 y/o pre/post graph\n",
        "five_pretest_graph = axes[0].bar(x-width/2, five_df_pretest, width, yerr=five_df_pretest_std/2, label='Pre-test', error_kw=dict(lw=2, capsize=5, capthick=1), color='#cccdc6')\n",
        "five_posttest_graph = axes[0].bar(x+width/2, five_df_posttest, width, yerr=five_df_posttest_std/2, label='Post-test', error_kw=dict(lw=2, capsize=5, capthick=1), color='#565754')\n",
        "axes[0].set_xlabel('5 year olds', fontsize='18')\n",
        "\n",
        "# 6 y/o pre/post graph\n",
        "six_pretest_graph = axes[1].bar(x-width/2, six_df_pretest, width, yerr=six_df_pretest_std/2, label='Pre-test', error_kw=dict(lw=2, capsize=5, capthick=1), color='#cccdc6')\n",
        "six_posttest_graph = axes[1].bar(x+width/2, six_df_posttest, width, yerr=six_df_posttest_std/2, label='Post-test', error_kw=dict(lw=2, capsize=5, capthick=1), color='#565754')\n",
        "axes[1].set_xlabel('6 year olds', fontsize='18')\n",
        "\n",
        "# for each graph:\n",
        "for i in axes:\n",
        "  i.set_yticks(np.arange(0,2.1,0.25)) # set the y ticks in 0.25 increments from 0 to 2.1\n",
        "  i.set_ylabel('Proportion Correct', fontsize='18') # name the y axis 'Proportion Correct'\n",
        "  i.tick_params(axis='y', which='major', labelsize=16) # y axis tick labels\n",
        "  i.set_xticks([]) # remove x axis ticks\n",
        "\n",
        "# sets one legend for both subplots\n",
        "lines, labels = abs_fig_age.axes[-1].get_legend_handles_labels()\n",
        "abs_fig_age.legend(lines,labels,loc='upper center',fontsize='16',title_fontsize='16')\n",
        "\n",
        "# puts space between the 2 subplots\n",
        "plt.subplots_adjust(wspace=0.25)\n",
        "\n",
        "# x axis = 'Age'\n",
        "axes[0] = axes[0].text(0.3,-0.175, 'Age', size=20, ha='center', va='center')"
      ],
      "execution_count": 73,
      "outputs": [
        {
          "output_type": "display_data",
          "data": {
            "image/png": "[encoded data removed]",
            "text/plain": [
              "<Figure size 1008x576 with 2 Axes>"
            ]
          },
          "metadata": {
            "tags": [],
            "needs_background": "light"
          }
        }
      ]
    },
    {
      "cell_type": "markdown",
      "metadata": {
        "id": "1uUApORmWa5t"
      },
      "source": [
        "## pre/post performance graphs by condition and age"
      ]
    },
    {
      "cell_type": "code",
      "metadata": {
        "colab": {
          "base_uri": "https://localhost:8080/",
          "height": 572
        },
        "id": "V9RDGieXWb2x",
        "outputId": "8570e171-951e-4ac5-9648-3743cc39a8a9"
      },
      "source": [
        "abs_condition_age_fig, axes = plt.subplots(nrows=1, ncols=2, figsize=[14,8], sharex=True)\n",
        "\n",
        "x = np.arange(len(labels))  # the label locations\n",
        "width = 0.4  # the width of the bars\n",
        "\n",
        "# created lists of 5 y/o pre- and post-test (separated by condition)\n",
        "pretest_mean_5 = [exp_5_pretest, dem_5_pretest]\n",
        "posttest_mean_5 = [exp_5_posttest, dem_5_posttest]\n",
        "pretest_error_5 = [exp_5_pretest_std/2, dem_5_pretest_std/2]\n",
        "posttest_error_5 = [exp_5_posttest_std/2, dem_5_posttest_std/2]\n",
        "\n",
        "# 5 y/o pre/post graph (both conditions)\n",
        "five_exp_dem_pretest_graph = axes[0].bar(x-width/2, pretest_mean_5, width, yerr=pretest_error_5, label='Pre-test', error_kw=dict(lw=2, capsize=5, capthick=1), color='#cccdc6')\n",
        "five_exp_dem_posttest_graph = axes[0].bar(x+width/2, posttest_mean_5, width, yerr=posttest_error_5, label='Post-test', error_kw=dict(lw=2, capsize=5, capthick=1), color='#565754')\n",
        "axes[0].set_title('5 year olds', fontsize='18')\n",
        "\n",
        "# created lists of 6 y/o pre- and post-test (separated by condition)\n",
        "pretest_mean_6 = [exp_6_pretest, dem_6_pretest]\n",
        "posttest_mean_6 = [exp_6_posttest, dem_6_posttest]\n",
        "pretest_error_6 = [exp_6_pretest_std/2, dem_6_pretest_std/2]\n",
        "posttest_error_6 = [exp_6_posttest_std/2, dem_6_posttest_std/2]\n",
        "\n",
        "# 6 y/o pre/post graph (both conditions)\n",
        "six_exp_dem_pretest_graph = axes[1].bar(x-width/2, pretest_mean_6, width, yerr=pretest_error_6, label='Pre-test', error_kw=dict(lw=2, capsize=5, capthick=1), color='#cccdc6')\n",
        "six_exp_dem_pretest_graph = axes[1].bar(x+width/2, posttest_mean_6, width, yerr=posttest_error_6, label='Post-test', error_kw=dict(lw=2, capsize=5, capthick=1), color='#565754')\n",
        "axes[1].set_title('6 year olds', fontsize='18')\n",
        "\n",
        "# labels for the x ticks\n",
        "labels = ['Exploration', 'Demonstration']\n",
        "\n",
        "# for each graph:\n",
        "for i in axes:\n",
        "  i.set_xticks(x)\n",
        "  i.set_xticklabels(labels, fontsize='18') # use the labels for the x ticks\n",
        "  i.set_yticks(np.arange(0,2.1,0.25)) # set the y tick\n",
        "  i.set_ylabel('Proportion Correct', fontsize='18') # name the y axis 'Proportion Correct'\n",
        "  i.tick_params(axis='both', which='major', labelsize=16)\n",
        "\n",
        "# sets one legend for both subplots\n",
        "lines, labels = abs_condition_age_fig.axes[-1].get_legend_handles_labels()\n",
        "abs_condition_age_fig.legend(lines,labels,loc='upper center',fontsize='16',title_fontsize='16')\n",
        "\n",
        "# puts space between the 2 subplots\n",
        "plt.subplots_adjust(wspace=0.25)\n",
        "\n",
        "# x axis = 'Condition'\n",
        "axes[0] = axes[0].text(1.55,-0.175, 'Condition', size=20, ha='center', va='center')"
      ],
      "execution_count": 75,
      "outputs": [
        {
          "output_type": "display_data",
          "data": {
            "image/png": "[encoded data removed]",
            "text/plain": [
              "<Figure size 1008x576 with 2 Axes>"
            ]
          },
          "metadata": {
            "tags": [],
            "needs_background": "light"
          }
        }
      ]
    },
    {
      "cell_type": "markdown",
      "metadata": {
        "id": "SorWr1n6m6zq"
      },
      "source": [
        "# overall number of stars found by condition and age (numbers)"
      ]
    },
    {
      "cell_type": "code",
      "metadata": {
        "colab": {
          "base_uri": "https://localhost:8080/",
          "height": 206
        },
        "id": "5i5W2rorm9lw",
        "outputId": "0b4b0cdb-e977-4bb6-b820-ca6046e77f90"
      },
      "source": [
        "def stars_found_overall(condition,age):\n",
        "  \"\"\"\n",
        "  purpose of function: returns frequency of 1, 2, and 3 stars found by condition and age\n",
        "\n",
        "  inputs:\n",
        "  condition = Exploration or Demonstration\n",
        "  age = 5 or 6\n",
        "  \"\"\"\n",
        "  # gets the number of kids who found 1 star by condition and age\n",
        "  one_star_df = raw_pic_df.loc[(raw_pic_df['condition'] == condition) & (raw_pic_df['age_group'] == age) & (raw_pic_df['stars'] == 1)]\n",
        "  one_star_freq = len(one_star_df)\n",
        "  \n",
        "  # gets the number of kids who found 2 stars by condition and age\n",
        "  two_star_df = raw_pic_df.loc[(raw_pic_df['condition'] == condition) & (raw_pic_df['age_group'] == age) & (raw_pic_df['stars'] == 2)]\n",
        "  two_star_freq = len(two_star_df)\n",
        "\n",
        "  # gets the number of kids who found 3 stars by condition and age\n",
        "  three_star_df = raw_pic_df.loc[(raw_pic_df['condition'] == condition) & (raw_pic_df['age_group'] == age) & (raw_pic_df['stars'] == 3)]\n",
        "  three_star_freq = len(three_star_df)\n",
        "  \n",
        "  # creates a list w/ the number of kids who found 1, 2, and 3 stars by condition and age\n",
        "  star_freq = one_star_freq, two_star_freq, three_star_freq\n",
        "  star_freq_list = [i for i in star_freq]\n",
        "\n",
        "  # returns that list\n",
        "  return star_freq_list\n",
        "\n",
        "# list of conditions and ages\n",
        "condition = ['Exploration','Demonstration']\n",
        "age_group = [5,6]\n",
        "\n",
        "# ran the function for all combinations of conditions and ages\n",
        "total_star_freq = [stars_found_overall(j,i) for i in age_group for j in condition]\n",
        "\n",
        "condition_list = [j for i in age_group for j in condition]\n",
        "age_list = [str(i) for i in age_group for j in condition]\n",
        "\n",
        "# creates a dataframe w/ the numbers returned from running the function (total_star_freq) and sets the columns to 1, 2, and 2 stars\n",
        "stars_freq_df = pd.DataFrame(total_star_freq,columns=['1 star','2 stars','3 stars'])\n",
        "\n",
        "# adds 2 columns to the stars_freq_df dataframe:\n",
        "stars_freq_df['condition'] = condition_list # condition\n",
        "stars_freq_df['age_group'] = age_list # age\n",
        "\n",
        "# sets the index of the dataframe to age and condition\n",
        "stars_freq_df = stars_freq_df.set_index(['age_group','condition'])\n",
        "stars_freq_df"
      ],
      "execution_count": 12,
      "outputs": [
        {
          "output_type": "execute_result",
          "data": {
            "text/html": [
              "<div>\n",
              "<style scoped>\n",
              "    .dataframe tbody tr th:only-of-type {\n",
              "        vertical-align: middle;\n",
              "    }\n",
              "\n",
              "    .dataframe tbody tr th {\n",
              "        vertical-align: top;\n",
              "    }\n",
              "\n",
              "    .dataframe thead th {\n",
              "        text-align: right;\n",
              "    }\n",
              "</style>\n",
              "<table border=\"1\" class=\"dataframe\">\n",
              "  <thead>\n",
              "    <tr style=\"text-align: right;\">\n",
              "      <th></th>\n",
              "      <th></th>\n",
              "      <th>1 star</th>\n",
              "      <th>2 stars</th>\n",
              "      <th>3 stars</th>\n",
              "    </tr>\n",
              "    <tr>\n",
              "      <th>age_group</th>\n",
              "      <th>condition</th>\n",
              "      <th></th>\n",
              "      <th></th>\n",
              "      <th></th>\n",
              "    </tr>\n",
              "  </thead>\n",
              "  <tbody>\n",
              "    <tr>\n",
              "      <th rowspan=\"2\" valign=\"top\">5</th>\n",
              "      <th>Exploration</th>\n",
              "      <td>4</td>\n",
              "      <td>5</td>\n",
              "      <td>8</td>\n",
              "    </tr>\n",
              "    <tr>\n",
              "      <th>Demonstration</th>\n",
              "      <td>4</td>\n",
              "      <td>8</td>\n",
              "      <td>5</td>\n",
              "    </tr>\n",
              "    <tr>\n",
              "      <th rowspan=\"2\" valign=\"top\">6</th>\n",
              "      <th>Exploration</th>\n",
              "      <td>3</td>\n",
              "      <td>3</td>\n",
              "      <td>11</td>\n",
              "    </tr>\n",
              "    <tr>\n",
              "      <th>Demonstration</th>\n",
              "      <td>3</td>\n",
              "      <td>6</td>\n",
              "      <td>8</td>\n",
              "    </tr>\n",
              "  </tbody>\n",
              "</table>\n",
              "</div>"
            ],
            "text/plain": [
              "                         1 star  2 stars  3 stars\n",
              "age_group condition                              \n",
              "5         Exploration         4        5        8\n",
              "          Demonstration       4        8        5\n",
              "6         Exploration         3        3       11\n",
              "          Demonstration       3        6        8"
            ]
          },
          "metadata": {
            "tags": []
          },
          "execution_count": 12
        }
      ]
    },
    {
      "cell_type": "markdown",
      "metadata": {
        "id": "4mgn32fJnFa3"
      },
      "source": [
        "# overall number of stars found by condition and age (graphs)"
      ]
    },
    {
      "cell_type": "code",
      "metadata": {
        "colab": {
          "base_uri": "https://localhost:8080/",
          "height": 575
        },
        "id": "DRMSDBWVp2_n",
        "outputId": "cbf5470f-2bf5-4c54-c868-9e101ef01f64"
      },
      "source": [
        "stars_overall_fig, axes = plt.subplots(nrows=1,ncols=2,figsize=[14,8])\n",
        "\n",
        "# number of stars found graph for 5 y/o \n",
        "five_num_stars = stars_freq_df.loc['5'] # gets only the 5 y/o data from the stars_freq_df dataframe\n",
        "five_num_stars_graph = five_num_stars.plot(kind='bar',stacked=True,ax=axes[0], color=['tab:red','#FFCD2B','green'], width=0.73) # creates a stacked bar graph\n",
        "five_num_stars_graph.get_legend().remove() # removes the legend\n",
        "axes[0].set_title('5 year olds', fontsize='18') # sets the title to '5 year olds'\n",
        "\n",
        "# .patches is everything inside of the chart\n",
        "for rect in five_num_stars_graph.patches:\n",
        "  # Find where everything is located\n",
        "  height = rect.get_height()\n",
        "  width = rect.get_width()\n",
        "  x = rect.get_x()\n",
        "  y = rect.get_y()\n",
        "  \n",
        "  # The height of the bar is the data value and can be used as the label\n",
        "  label_text = f'{int(height)}' # the frequency of kids who found 1, 2, and 3 stars\n",
        "  \n",
        "  # ax.text(x, y, text)\n",
        "  label_x = x + width / 2\n",
        "  label_y = y + height / 2\n",
        "\n",
        "  # plot only when height is greater than specified value\n",
        "  if height > 0:\n",
        "      five_num_stars_graph.text(label_x, label_y, label_text, ha='center', va='center', fontsize=16)\n",
        "\n",
        "# number of stars found graph for 6 y/o \n",
        "six_num_stars = stars_freq_df.loc['6'] # gets only the 6 y/o data from the stars_freq_df dataframe\n",
        "six_num_stars_graph = six_num_stars.plot(kind='bar',stacked=True,ax=axes[1], color=['tab:red','#FFCD2B','green'], width=0.73) # creates a stacked bar graph\n",
        "six_num_stars_graph.get_legend().remove() # removes the legend\n",
        "axes[1].set_title('6 year olds', fontsize='18') # sets the title to '6 year olds'\n",
        "\n",
        "for rect in six_num_stars_graph.patches:\n",
        "  # Find where everything is located\n",
        "  height = rect.get_height()\n",
        "  width = rect.get_width()\n",
        "  x = rect.get_x()\n",
        "  y = rect.get_y()\n",
        "  \n",
        "  # The height of the bar is the data value and can be used as the label\n",
        "  label_text = f'{int(height)}' # the frequency of kids who found 1, 2, and 3 stars\n",
        "  \n",
        "  # ax.text(x, y, text)\n",
        "  label_x = x + width / 2\n",
        "  label_y = y + height / 2\n",
        "\n",
        "  # plot only when height is greater than specified value\n",
        "  if height > 0:\n",
        "      six_num_stars_graph.text(label_x, label_y, label_text, ha='center', va='center', fontsize=18)  \n",
        "\n",
        "# for each graph:\n",
        "for i in axes:\n",
        "  i.set_xticklabels(['Exploration','Demonstration'], rotation = 0) # set the x tick labels to 'Exploration' and 'Demonstration'\n",
        "  i.set_ylabel('Number of children', fontsize='20') # set the y label to 'Number of children'\n",
        "  i.set_yticks(np.arange(0,(len(five_df)/2 + 1),2)) # set the y ticks in 2 increments from ((the length of five_df)/2 + 1)\n",
        "  i.set_ylim(0,len(five_df)/2) # set the y tick limit to (the length of five_df)/2\n",
        "  i.tick_params(axis='both', which='both', labelsize=18) # set y tick labels to fontsize 16\n",
        "  i.set_xlabel('')\n",
        "\n",
        "# sets one legend for both subplots\n",
        "lines, labels = stars_overall_fig.axes[-1].get_legend_handles_labels()\n",
        "stars_overall_fig.legend(lines, labels, loc='upper center', ncol=3, fontsize='16')\n",
        "\n",
        "# puts space between the 2 subplots\n",
        "plt.subplots_adjust(wspace=0.25)\n",
        "\n",
        "# # x axis = 'Condition'\n",
        "axes[0] = axes[0].text(1.75,-1.5, 'Condition', size=20, ha='center', va='center')"
      ],
      "execution_count": 70,
      "outputs": [
        {
          "output_type": "display_data",
          "data": {
            "image/png": "[encoded data removed]",
            "text/plain": [
              "<Figure size 1008x576 with 2 Axes>"
            ]
          },
          "metadata": {
            "tags": [],
            "needs_background": "light"
          }
        }
      ]
    },
    {
      "cell_type": "markdown",
      "metadata": {
        "id": "zSzwq8tGxhvT"
      },
      "source": [
        "# average number of stars (numbers)"
      ]
    },
    {
      "cell_type": "markdown",
      "metadata": {
        "id": "-OH1zaEDvVMA"
      },
      "source": [
        "## average number of stars by condition (numbers)"
      ]
    },
    {
      "cell_type": "code",
      "metadata": {
        "colab": {
          "base_uri": "https://localhost:8080/"
        },
        "id": "dggDiSfIvbkH",
        "outputId": "ce353790-5228-43b6-c26b-cb3da0c35a05"
      },
      "source": [
        "def avg_stars_C(condition):\n",
        "  \"\"\"\n",
        "  purpose of function: return the avg number of stars found and the std dev of stars found by condition (C)\n",
        "\n",
        "  input:\n",
        "  condition = Exploration or Demonstration\n",
        "  \"\"\"\n",
        "  # if the condition inputted is 'Exploration':\n",
        "  if condition == \"Exploration\":\n",
        "    # find the avg and std dev of the 'stars' column in the exp_df dataframe\n",
        "    avg_num_stars = round(np.mean(exp_df['stars']), 2)\n",
        "    avg_num_stars_std = round(np.std(exp_df['stars']), 2)\n",
        "  \n",
        "  # if the condition inputted is 'Demonstration':\n",
        "  elif condition == \"Demonstration\":\n",
        "    # find the avg and std dev of the 'stars' column in the dem_df dataframe\n",
        "    avg_num_stars = round(np.mean(dem_df['stars']), 2)\n",
        "    avg_num_stars_std = round(np.std(dem_df['stars']), 2)\n",
        "  \n",
        "  # gets a list of the avg number of stars found and the std dev by condition\n",
        "  avg_std_stars = avg_num_stars, avg_num_stars_std\n",
        "  avg_std_stars_list = [i for i in avg_std_stars]\n",
        "  \n",
        "  return avg_std_stars_list\n",
        "\n",
        "# runs the function with both conditions\n",
        "total_avg_num_stars_C = [avg_stars_C(i) for i in condition]\n",
        "\n",
        "# creates a dataframe with the avg number of stars found + std dev by condition w/ the columns 'Average' and 'Std Dev'\n",
        "avg_num_stars_df_C = pd.DataFrame(total_avg_num_stars_C,columns=['Average','Std Dev'])\n",
        "\n",
        "# adds a column to the dataframe 'Condition'\n",
        "avg_num_stars_df_C['condition'] = condition \n",
        "\n",
        "# sets the 'Condition' column as the index\n",
        "avg_num_stars_df_C = avg_num_stars_df_C.set_index(['condition'])\n",
        "\n",
        "print('----- Number of stars found by condition -----')\n",
        "print(avg_num_stars_df_C)"
      ],
      "execution_count": 41,
      "outputs": [
        {
          "output_type": "stream",
          "text": [
            "----- Number of stars found by condition -----\n",
            "               Average  Std Dev\n",
            "condition                      \n",
            "Exploration       2.35     0.80\n",
            "Demonstration     2.18     0.75\n"
          ],
          "name": "stdout"
        }
      ]
    },
    {
      "cell_type": "markdown",
      "metadata": {
        "id": "UYyRG7dgxl4h"
      },
      "source": [
        "## average number of stars by age (numbers)"
      ]
    },
    {
      "cell_type": "code",
      "metadata": {
        "colab": {
          "base_uri": "https://localhost:8080/"
        },
        "id": "sBn07odVxpr3",
        "outputId": "9eb98378-6630-4bfc-9b34-5723870277a0"
      },
      "source": [
        "def avg_stars_A(age):\n",
        "  \"\"\"\n",
        "  purpose of function: return the avg number of stars found and the std dev of stars found by age (A)\n",
        "\n",
        "  input:\n",
        "  age = 5 or 6\n",
        "  \"\"\"\n",
        "  # if the age inputted is 5:\n",
        "  if age == 5:\n",
        "    # find the avg and std dev of the 'stars' column in the five_df dataframe\n",
        "    avg_num_stars = round(np.mean(five_df['stars']), 2)\n",
        "    avg_num_stars_std = round(np.std(five_df['stars']), 2)\n",
        "\n",
        "  # if the age inputted is 6:\n",
        "  elif age == 6:\n",
        "    # find the avg and std dev of the 'stars' column in the six_df dataframe\n",
        "    avg_num_stars = round(np.mean(six_df['stars']), 2)\n",
        "    avg_num_stars_std = round(np.std(six_df['stars']), 2)\n",
        "  \n",
        "  # gets a list of the avg number of stars found and the std dev by age\n",
        "  avg_std_stars = avg_num_stars, avg_num_stars_std\n",
        "  avg_std_stars_list = [i for i in avg_std_stars]\n",
        "  \n",
        "  return avg_std_stars_list\n",
        "\n",
        "# runs the function with both age groups\n",
        "total_avg_num_stars_A = [avg_stars_A(i) for i in age_group]\n",
        "\n",
        "# creates a dataframe with the avg number of stars found + std dev by age w/ the columns 'Average' and 'Std Dev'\n",
        "total_avg_num_stars_df_A = pd.DataFrame(total_avg_num_stars_A,columns=['Average','Std Dev'])\n",
        "\n",
        "# adds a column to the dataframe 'Age'\n",
        "total_avg_num_stars_df_A['age'] = age_group\n",
        "\n",
        "# sets the 'Age' column as the index\n",
        "total_avg_num_stars_df_A = total_avg_num_stars_df_A.set_index(['age'])\n",
        "\n",
        "print('----- Number of stars found by age -----')\n",
        "print(total_avg_num_stars_df_A)"
      ],
      "execution_count": 42,
      "outputs": [
        {
          "output_type": "stream",
          "text": [
            "----- Number of stars found by age -----\n",
            "     Average  Std Dev\n",
            "age                  \n",
            "5       2.15     0.77\n",
            "6       2.38     0.77\n"
          ],
          "name": "stdout"
        }
      ]
    },
    {
      "cell_type": "markdown",
      "metadata": {
        "id": "JPwJvVrcvYPO"
      },
      "source": [
        "# average number of stars (graphs)"
      ]
    },
    {
      "cell_type": "markdown",
      "metadata": {
        "id": "njtkCmo0xaHn"
      },
      "source": [
        "##  average number of stars by condition (graph)"
      ]
    },
    {
      "cell_type": "code",
      "metadata": {
        "colab": {
          "base_uri": "https://localhost:8080/",
          "height": 441
        },
        "id": "gZQ6YdvrxVRj",
        "outputId": "0d65670e-4121-4c2c-b47a-0aca9d7718bb"
      },
      "source": [
        "avg_stars_condition_graph = avg_num_stars_df_C['Average'].plot(kind='bar', width=0.73, figsize=(7,6),yerr=avg_num_stars_df_C['Std Dev']/2, error_kw=dict(lw=2, capsize=5, capthick=1))\n",
        "\n",
        "# sets the x tick labels to 'Exploration' and 'Demonstration'\n",
        "avg_stars_condition_graph.set_xticklabels(['Exploration','Demonstration'], rotation = 0)\n",
        "\n",
        "# sets the x label to 'Condition'\n",
        "avg_stars_condition_graph.set_xlabel('Condition', fontsize='18')\n",
        "\n",
        "# sets the y label to 'Average Number of Stars Found'\n",
        "avg_stars_condition_graph.set_ylabel('Average Number of Stars Found', fontsize='18')\n",
        "\n",
        "# sets the y ticks in 0.5 increments from 0 to 3\n",
        "avg_stars_condition_graph.set_yticks(np.arange(0,3.5,0.5))\n",
        "\n",
        "# sets the y limit to 3\n",
        "avg_stars_condition_graph.set_ylim(0,3)\n",
        "\n",
        "# sets both axes to fontsize 16\n",
        "avg_stars_condition_graph.tick_params(axis='both', which='both', labelsize=16)\n",
        "\n",
        "plt.tight_layout()"
      ],
      "execution_count": 55,
      "outputs": [
        {
          "output_type": "display_data",
          "data": {
            "image/png": "[encoded data removed]",
            "text/plain": [
              "<Figure size 504x432 with 1 Axes>"
            ]
          },
          "metadata": {
            "tags": [],
            "needs_background": "light"
          }
        }
      ]
    },
    {
      "cell_type": "markdown",
      "metadata": {
        "id": "NWE_MWPZxwP7"
      },
      "source": [
        "##  average number of stars by age (graph)"
      ]
    },
    {
      "cell_type": "code",
      "metadata": {
        "colab": {
          "base_uri": "https://localhost:8080/",
          "height": 441
        },
        "id": "iOygH9HhzPuM",
        "outputId": "fdca6181-1783-42d1-ae10-b702a1d1298b"
      },
      "source": [
        "avg_stars_age_graph = total_avg_num_stars_df_A['Average'].plot(kind='bar', width=0.73, figsize=(7,6),yerr=total_avg_num_stars_df_A['Std Dev']/2, error_kw=dict(lw=2, capsize=5, capthick=1),color='tab:orange')\n",
        "\n",
        "# sets the x tick labels to '5 year olds' and '6 year olds'\n",
        "avg_stars_age_graph.set_xticklabels(['5 year olds','6 year olds'], rotation = 0)\n",
        "\n",
        "# sets the x label to 'Age'\n",
        "avg_stars_age_graph.set_xlabel('Age', fontsize='16')\n",
        "\n",
        "# sets the y label to 'Average Number of Stars Found'\n",
        "avg_stars_age_graph.set_ylabel('Average Number of Stars Found', fontsize='18')\n",
        "\n",
        "# sets the y ticks in 0.5 increments from 0 to 3\n",
        "avg_stars_age_graph.set_yticks(np.arange(0,3.5,0.5))\n",
        "\n",
        "# sets the y limit to 3\n",
        "avg_stars_age_graph.set_ylim(0,3)\n",
        "\n",
        "# sets both axes to fontsize 16\n",
        "avg_stars_age_graph.tick_params(axis='both', which='both', labelsize=16)\n",
        "\n",
        "plt.tight_layout()"
      ],
      "execution_count": 57,
      "outputs": [
        {
          "output_type": "display_data",
          "data": {
            "image/png": "[encoded data removed]",
            "text/plain": [
              "<Figure size 504x432 with 1 Axes>"
            ]
          },
          "metadata": {
            "tags": [],
            "needs_background": "light"
          }
        }
      ]
    },
    {
      "cell_type": "markdown",
      "metadata": {
        "id": "zQJopHuJznbV"
      },
      "source": [
        "# overall strategies by condition and age (numbers)"
      ]
    },
    {
      "cell_type": "code",
      "metadata": {
        "colab": {
          "base_uri": "https://localhost:8080/",
          "height": 206
        },
        "id": "WBQcbaLm0SW1",
        "outputId": "bc11d767-208f-4fba-efd3-fdac81989444"
      },
      "source": [
        "def general_transfer_strategies_overall(condition,age):\n",
        "  \"\"\"\n",
        "  purpose of function: returns the number of kids who used either no strategy, pattern-related strategy, or advanced strategy\n",
        "\n",
        "  inputs:\n",
        "  condition = Exploration or Demonstration\n",
        "  age = 5 or 6\n",
        "  \"\"\"\n",
        "  # gets the number of kids who used no strategy\n",
        "  no_strategy_df = raw_pic_df.loc[(raw_pic_df['condition'] == condition) & (raw_pic_df['age_group'] == age) & (raw_pic_df['transfer_grouped_strategy'] == 'no strategy')]\n",
        "  no_strategy_freq = len(no_strategy_df)\n",
        "  \n",
        "  # gets the number of kids who used pattern-related strategies\n",
        "  pattern_related_strategy_df = raw_pic_df.loc[(raw_pic_df['condition'] == condition) & (raw_pic_df['age_group'] == age) & (raw_pic_df['transfer_grouped_strategy'] == 'pattern-related')]\n",
        "  pattern_related_strategy_freq = len(pattern_related_strategy_df)\n",
        "  \n",
        "  # gets the number of kids who used the advanced strategy (exploit)\n",
        "  advanced_df = raw_pic_df.loc[(raw_pic_df['condition'] == condition) & (raw_pic_df['age_group'] == age) & (raw_pic_df['transfer_grouped_strategy'] == 'exploit')]\n",
        "  advanced_freq = len(advanced_df)\n",
        "  \n",
        "  # creates a list w/ the number of kids who used each strategy\n",
        "  strategies_freq = no_strategy_freq, pattern_related_strategy_freq, advanced_freq\n",
        "  strategies_freq_list = [i for i in strategies_freq]\n",
        "\n",
        "  return strategies_freq_list\n",
        "\n",
        "# ran the function for all combinations of conditions and ages\n",
        "total_strategies_freq = [general_transfer_strategies_overall(j,i) for i in age_group for j in condition]\n",
        "\n",
        "# creates a dataframe w/ the numbers returned from running the function (total_strategies_freq) and sets the columns to 'No strategy','Pattern-related', and'Advanced'\n",
        "strategies_freq_df = pd.DataFrame(total_strategies_freq,columns=['No strategy','Pattern-related','Advanced'])\n",
        "\n",
        "# adds 2 columns to the stars_freq_df dataframe:\n",
        "strategies_freq_df['condition'] = condition_list # condition\n",
        "strategies_freq_df['age_group'] = age_list # age\n",
        "\n",
        "# sets the index of the dataframe to age and condition\n",
        "strategies_freq_df = strategies_freq_df.set_index(['age_group','condition'])\n",
        "strategies_freq_df"
      ],
      "execution_count": 63,
      "outputs": [
        {
          "output_type": "execute_result",
          "data": {
            "text/html": [
              "<div>\n",
              "<style scoped>\n",
              "    .dataframe tbody tr th:only-of-type {\n",
              "        vertical-align: middle;\n",
              "    }\n",
              "\n",
              "    .dataframe tbody tr th {\n",
              "        vertical-align: top;\n",
              "    }\n",
              "\n",
              "    .dataframe thead th {\n",
              "        text-align: right;\n",
              "    }\n",
              "</style>\n",
              "<table border=\"1\" class=\"dataframe\">\n",
              "  <thead>\n",
              "    <tr style=\"text-align: right;\">\n",
              "      <th></th>\n",
              "      <th></th>\n",
              "      <th>No strategy</th>\n",
              "      <th>Pattern-related</th>\n",
              "      <th>Advanced</th>\n",
              "    </tr>\n",
              "    <tr>\n",
              "      <th>age_group</th>\n",
              "      <th>condition</th>\n",
              "      <th></th>\n",
              "      <th></th>\n",
              "      <th></th>\n",
              "    </tr>\n",
              "  </thead>\n",
              "  <tbody>\n",
              "    <tr>\n",
              "      <th rowspan=\"2\" valign=\"top\">5</th>\n",
              "      <th>Exploration</th>\n",
              "      <td>4</td>\n",
              "      <td>10</td>\n",
              "      <td>3</td>\n",
              "    </tr>\n",
              "    <tr>\n",
              "      <th>Demonstration</th>\n",
              "      <td>7</td>\n",
              "      <td>8</td>\n",
              "      <td>2</td>\n",
              "    </tr>\n",
              "    <tr>\n",
              "      <th rowspan=\"2\" valign=\"top\">6</th>\n",
              "      <th>Exploration</th>\n",
              "      <td>2</td>\n",
              "      <td>8</td>\n",
              "      <td>7</td>\n",
              "    </tr>\n",
              "    <tr>\n",
              "      <th>Demonstration</th>\n",
              "      <td>2</td>\n",
              "      <td>11</td>\n",
              "      <td>4</td>\n",
              "    </tr>\n",
              "  </tbody>\n",
              "</table>\n",
              "</div>"
            ],
            "text/plain": [
              "                         No strategy  Pattern-related  Advanced\n",
              "age_group condition                                            \n",
              "5         Exploration              4               10         3\n",
              "          Demonstration            7                8         2\n",
              "6         Exploration              2                8         7\n",
              "          Demonstration            2               11         4"
            ]
          },
          "metadata": {
            "tags": []
          },
          "execution_count": 63
        }
      ]
    },
    {
      "cell_type": "markdown",
      "metadata": {
        "id": "fUZriLrM0Ywu"
      },
      "source": [
        "# overall strategies by condition and age (graph)"
      ]
    },
    {
      "cell_type": "code",
      "metadata": {
        "colab": {
          "base_uri": "https://localhost:8080/",
          "height": 575
        },
        "id": "g4yPceLF0ggS",
        "outputId": "dd5eb2a6-d29d-487b-fe38-d4908f2c9194"
      },
      "source": [
        "overall_strategies_fig, axes = plt.subplots(nrows=1,ncols=2,figsize=[14,8])\n",
        "\n",
        "# graph for the number of 5 y/o who used each strategy\n",
        "five_overall_strategies = strategies_freq_df.loc['5'] # gets only the 5 y/o data from the strategies_freq_df dataframe\n",
        "five_overall_strategies_graph = five_overall_strategies.plot(kind='bar',stacked=True,ax=axes[0], color=['#C8A2C8','skyblue','lightseagreen'], width=0.73) # creates a stacked bar graph\n",
        "five_overall_strategies_graph.get_legend().remove() # removes the legend\n",
        "axes[0].set_title('5 year olds', fontsize='18') # sets the title to '5 year olds'\n",
        "\n",
        "# .patches is everything inside of the chart\n",
        "for rect in five_overall_strategies_graph.patches:\n",
        "  # Find where everything is located\n",
        "  height = rect.get_height()\n",
        "  width = rect.get_width()\n",
        "  x = rect.get_x()\n",
        "  y = rect.get_y()\n",
        "  \n",
        "  # The height of the bar is the data value and can be used as the label\n",
        "  label_text = f'{int(height)}' # the frequency of kids who found 1, 2, and 3 stars\n",
        "  \n",
        "  # ax.text(x, y, text)\n",
        "  label_x = x + width / 2\n",
        "  label_y = y + height / 2\n",
        "\n",
        "  # plot only when height is greater than specified value\n",
        "  if height > 0:\n",
        "      five_overall_strategies_graph.text(label_x, label_y, label_text, ha='center', va='center', fontsize=16)\n",
        "\n",
        "# graph for number of 5 y/o who used each strategy\n",
        "six_overall_strategies = strategies_freq_df.loc['6'] # gets only the 6 y/o data from the strategies_freq_df dataframe\n",
        "six_overall_strategies_graph = six_overall_strategies.plot(kind='bar',stacked=True,ax=axes[1], color=['#C8A2C8','skyblue','lightseagreen'], width=0.73) # creates a stacked bar graph\n",
        "six_overall_strategies_graph.get_legend().remove() # removes the legend\n",
        "axes[1].set_title('6 year olds', fontsize='18') # sets the title to '6 year olds'\n",
        "\n",
        "for rect in six_overall_strategies_graph.patches:\n",
        "  # Find where everything is located\n",
        "  height = rect.get_height()\n",
        "  width = rect.get_width()\n",
        "  x = rect.get_x()\n",
        "  y = rect.get_y()\n",
        "  \n",
        "  # The height of the bar is the data value and can be used as the label\n",
        "  label_text = f'{int(height)}' # the frequency of kids who found 1, 2, and 3 stars\n",
        "  \n",
        "  # ax.text(x, y, text)\n",
        "  label_x = x + width / 2\n",
        "  label_y = y + height / 2\n",
        "\n",
        "  # plot only when height is greater than specified value\n",
        "  if height > 0:\n",
        "      six_overall_strategies_graph.text(label_x, label_y, label_text, ha='center', va='center', fontsize=18) \n",
        "\n",
        "# for each graph:\n",
        "for i in axes:\n",
        "  i.set_xticklabels(['Exploration','Demonstration'], rotation = 0) # set the x tick labels to 'Exploration' and 'Demonstration'\n",
        "  i.set_ylabel('Number of children', fontsize='20') # set the y label to 'Number of children'\n",
        "  i.set_yticks(np.arange(0,(len(five_df)/2 + 1),2)) # set the y ticks in 2 increments from ((the length of five_df)/2 + 1)\n",
        "  i.set_ylim(0,len(five_df)/2) # set the y tick limit to (the length of five_df)/2\n",
        "  i.tick_params(axis='both', which='both', labelsize=18) # set y tick labels to fontsize 16\n",
        "  i.set_xlabel('')\n",
        "\n",
        "# sets one legend for both subplots\n",
        "lines2, labels2 = overall_strategies_fig.axes[-1].get_legend_handles_labels()\n",
        "overall_strategies_fig.legend(lines2, labels2, loc='upper center', ncol=3, fontsize='16')\n",
        "\n",
        "# puts space between the 2 subplots\n",
        "plt.subplots_adjust(wspace=0.25)\n",
        "\n",
        "# x axis = 'Condition'\n",
        "axes[0] = axes[0].text(1.75,-1.5, 'Condition', size=20, ha='center', va='center')"
      ],
      "execution_count": 72,
      "outputs": [
        {
          "output_type": "display_data",
          "data": {
            "image/png": "[encoded data removed]",
            "text/plain": [
              "<Figure size 1008x576 with 2 Axes>"
            ]
          },
          "metadata": {
            "tags": [],
            "needs_background": "light"
          }
        }
      ]
    },
    {
      "cell_type": "markdown",
      "metadata": {
        "id": "jFEW9C8wmcmz"
      },
      "source": [
        "# saving the figures"
      ]
    },
    {
      "cell_type": "code",
      "metadata": {
        "id": "jdcblOk5meKe"
      },
      "source": [
        "# pre/post performance by condition\n",
        "abs_fig_condition.savefig('pre_post_perf_byCondition.png')\n",
        "\n",
        "# pre/post performance by age\n",
        "abs_fig_age.savefig('pre_post_perf_byAge.png')\n",
        "\n",
        "# pre/post performance by condition and age\n",
        "abs_condition_age_fig.savefig('pre_post_perf_byCondition_and_Age.png')\n",
        "\n",
        "# number of stars found by condition and age\n",
        "stars_overall_fig.savefig('num_stars_byCondition_and_Age.png')\n",
        "\n",
        "# avg number of stars found by condition\n",
        "avg_stars_condition_fig = avg_stars_condition_graph.get_figure()\n",
        "avg_stars_condition_fig.savefig('avg_num_stars_byCondition.png')\n",
        "\n",
        "# avg number of stars found by age\n",
        "avg_stars_age_fig = avg_stars_age_graph.get_figure()\n",
        "avg_stars_age_fig.savefig('avg_num_stars_byAge.png')\n",
        "\n",
        "# number of kids who used each strategy by condition and age\n",
        "overall_strategies_fig.savefig('strategies_byCondition_and_Age.png')"
      ],
      "execution_count": 60,
      "outputs": []
    }
  ]
}